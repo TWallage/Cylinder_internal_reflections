{
 "cells": [
  {
   "cell_type": "code",
   "execution_count": 101,
   "metadata": {},
   "outputs": [],
   "source": [
    "import numpy as np\n",
    "from scipy import optimize\n",
    "import matplotlib.pyplot as plt"
   ]
  },
  {
   "cell_type": "code",
   "execution_count": 102,
   "metadata": {},
   "outputs": [],
   "source": [
    "def cyl_intercept(t, x_0, y_0, a, b):\n",
    "    f = (x_0+t*a)**2 + (y_0 + t*b)**2 - 25\n",
    "    return f\n",
    "\n",
    "def check_end(t):\n",
    "    return t < 20\n",
    "\n",
    "def reflection(t,x_0, y_0, a, b):\n",
    "    t = float(t)\n",
    "    intercept = np.array([x_0+a*t, y_0+b*t])\n",
    "    old_direction = np.array([a,b])\n",
    "    normal = -1*intercept/np.linalg.norm(intercept)\n",
    "    dot_prod = np.dot(normal, old_direction)\n",
    "    reflected = old_direction - 2*dot_prod*normal\n",
    "    return reflected\n"
   ]
  },
  {
   "cell_type": "code",
   "execution_count": 103,
   "metadata": {},
   "outputs": [],
   "source": [
    "def compute_reflections(position):\n",
    "    t = 0.0\n",
    "    direction = np.array([0.0,0.6])\n",
    "    t0 = optimize.fsolve(cyl_intercept,[-1,1], args=(*position,*direction))\n",
    "    c = 0.1\n",
    "    while(np.isclose(t0[0], t0[1])):\n",
    "        t0 = optimize.fsolve(cyl_intercept,[-1-c,1+c], args=(*position,*direction))\n",
    "        c += c\n",
    "\n",
    "    t0=max(t0)\n",
    "\n",
    "    while check_end(t + abs(t0)):\n",
    "        t += abs(t0) \n",
    "        position = position + (direction*t0)\n",
    "        direction = reflection(t0,*position, *direction)\n",
    "        c = 0.1\n",
    "        t0 = 0.0\n",
    "        while(np.isclose(t0, 0.0)):\n",
    "            t0 = max(optimize.fsolve(cyl_intercept,[-1-c,1+c], args=(*position,*direction)))\n",
    "            c += c\n",
    "    \n",
    "    return position + (direction*(20-t))\n",
    "           \n",
    "def gen_random_point():\n",
    "    point = np.random.rand(2)\n",
    "    point -= 0.5\n",
    "    point *= 4.9\n",
    "    return point\n",
    "\n",
    "def check_bounds(point):\n",
    "    return(np.linalg.norm(point) >= 5.0)\n",
    "    "
   ]
  },
  {
   "cell_type": "code",
   "execution_count": 104,
   "metadata": {},
   "outputs": [
    {
     "name": "stderr",
     "output_type": "stream",
     "text": [
      "C:\\Users\\Toby\\anaconda3\\lib\\site-packages\\scipy\\optimize\\minpack.py:175: RuntimeWarning: The iteration is not making good progress, as measured by the \n",
      "  improvement from the last ten iterations.\n",
      "  warnings.warn(msg, RuntimeWarning)\n"
     ]
    }
   ],
   "source": [
    "points_x, points_y = [],[]\n",
    "for i in range(100000):\n",
    "    point = gen_random_point()\n",
    "    while check_bounds(point):\n",
    "        point = gen_random_point()\n",
    "    \n",
    "    point = compute_reflections(point)\n",
    "    if check_bounds(point):\n",
    "        pass\n",
    "    else:\n",
    "        points_x.append(point[0])\n",
    "        points_y.append(point[1])\n"
   ]
  },
  {
   "cell_type": "code",
   "execution_count": 105,
   "metadata": {},
   "outputs": [
    {
     "data": {
      "text/plain": [
       "(-5.0, 5.0)"
      ]
     },
     "execution_count": 105,
     "metadata": {},
     "output_type": "execute_result"
    },
    {
     "data": {
      "image/png": "[encoded data removed]",
      "text/plain": [
       "<Figure size 432x288 with 1 Axes>"
      ]
     },
     "metadata": {
      "needs_background": "light"
     },
     "output_type": "display_data"
    }
   ],
   "source": [
    "plt.scatter(points_x, points_y, marker=\".\")\n",
    "plt.axis(\"equal\")\n",
    "plt.ylim(-5,5)"
   ]
  },
  {
   "cell_type": "code",
   "execution_count": 106,
   "metadata": {},
   "outputs": [
    {
     "name": "stdout",
     "output_type": "stream",
     "text": [
      "[[0 0 0 ... 0 0 0]\n",
      " [0 0 0 ... 0 0 0]\n",
      " [0 0 0 ... 0 0 0]\n",
      " ...\n",
      " [0 0 0 ... 0 0 0]\n",
      " [0 0 0 ... 0 0 0]\n",
      " [0 0 0 ... 0 0 0]]\n"
     ]
    }
   ],
   "source": [
    "points_x = np.array(points_x)\n",
    "points_y = np.array(points_y)\n",
    "stacked_points = np.floor(np.stack((9*points_x,9*points_y), 1)).astype(int)\n",
    "\n",
    "def count_points (x, y, points):\n",
    "    #Had to steal this :(\n",
    "    val = np.array([x,y])   # the value I want to count (can be iterator, in a list, etc.)\n",
    "    temp = np.ascontiguousarray(points).view(np.dtype((np.void, points.dtype.itemsize * points.shape[1])))  # convert the 2d-array into an array of analyzable patterns\n",
    "    xt=np.ascontiguousarray(val).view(np.dtype((np.void, val.dtype.itemsize * val.shape[0])))  # convert what you search into one analyzable pattern      \n",
    "    return np.sum(temp==xt)# count of the searched pattern in the list of patterns\n",
    "\n",
    "image = np.empty((100,100),dtype=int)\n",
    "for i, n in np.ndenumerate(image):\n",
    "    image[i] = count_points(i[0]-50, i[1]-50, stacked_points)\n",
    "print(image)"
   ]
  },
  {
   "cell_type": "code",
   "execution_count": 112,
   "metadata": {},
   "outputs": [
    {
     "data": {
      "text/plain": [
       "<matplotlib.image.AxesImage at 0x2e381276f70>"
      ]
     },
     "execution_count": 112,
     "metadata": {},
     "output_type": "execute_result"
    },
    {
     "data": {
      "image/png": "[encoded data removed]",
      "text/plain": [
       "<Figure size 600x400 with 1 Axes>"
      ]
     },
     "metadata": {
      "needs_background": "light"
     },
     "output_type": "display_data"
    }
   ],
   "source": [
    "plt.figure(dpi=100)\n",
    "plt.imshow(np.sqrt(image))"
   ]
  }
 ],
 "metadata": {
  "interpreter": {
   "hash": "b3ba2566441a7c06988d0923437866b63cedc61552a5af99d1f4fb67d367b25f"
  },
  "kernelspec": {
   "display_name": "Python 3.8.8 64-bit ('base': conda)",
   "language": "python",
   "name": "python3"
  },
  "language_info": {
   "codemirror_mode": {
    "name": "ipython",
    "version": 3
   },
   "file_extension": ".py",
   "mimetype": "text/x-python",
   "name": "python",
   "nbconvert_exporter": "python",
   "pygments_lexer": "ipython3",
   "version": "3.8.5"
  },
  "orig_nbformat": 4
 },
 "nbformat": 4,
 "nbformat_minor": 2
}
